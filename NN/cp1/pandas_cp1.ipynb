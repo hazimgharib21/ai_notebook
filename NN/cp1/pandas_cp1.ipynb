{
 "cells": [
  {
   "cell_type": "markdown",
   "metadata": {},
   "source": [
    "## Data visualization and data manipulation"
   ]
  },
  {
   "cell_type": "code",
   "execution_count": 1,
   "metadata": {},
   "outputs": [],
   "source": [
    "import pandas as pd\n",
    "import numpy as np\n",
    "import matplotlib\n",
    "matplotlib.use(\"TkAgg\")\n",
    "import matplotlib.pyplot as plt\n",
    "%matplotlib inline"
   ]
  },
  {
   "cell_type": "code",
   "execution_count": 2,
   "metadata": {},
   "outputs": [
    {
     "name": "stdout",
     "output_type": "stream",
     "text": [
      "<class 'pandas.core.frame.DataFrame'>\n",
      "RangeIndex: 150 entries, 0 to 149\n",
      "Data columns (total 5 columns):\n",
      "sepal_length    150 non-null float64\n",
      "sepal_width     150 non-null float64\n",
      "petal_length    150 non-null float64\n",
      "petal_width     150 non-null float64\n",
      "class           150 non-null object\n",
      "dtypes: float64(4), object(1)\n",
      "memory usage: 5.9+ KB\n",
      "None\n",
      "\n"
     ]
    }
   ],
   "source": [
    "'''\n",
    "Pandas DataFrames\n",
    "'''\n",
    "\n",
    "# Read iris dataset from UCI database\n",
    "df = pd.read_csv(\"https://archive.ics.uci.edu/ml/machine-learning-databases/iris/iris.data\",\n",
    "                names = ['sepal_length', 'sepal_width', 'petal_length', 'petal_width', 'class'])\n",
    "\n",
    "# Get info of the data\n",
    "print(df.info())\n",
    "print('')"
   ]
  },
  {
   "cell_type": "code",
   "execution_count": 3,
   "metadata": {},
   "outputs": [
    {
     "name": "stdout",
     "output_type": "stream",
     "text": [
      "       sepal_length  sepal_width  petal_length  petal_width\n",
      "count    150.000000   150.000000    150.000000   150.000000\n",
      "mean       5.843333     3.054000      3.758667     1.198667\n",
      "std        0.828066     0.433594      1.764420     0.763161\n",
      "min        4.300000     2.000000      1.000000     0.100000\n",
      "25%        5.100000     2.800000      1.600000     0.300000\n",
      "50%        5.800000     3.000000      4.350000     1.300000\n",
      "75%        6.400000     3.300000      5.100000     1.800000\n",
      "max        7.900000     4.400000      6.900000     2.500000\n",
      "\n"
     ]
    }
   ],
   "source": [
    "# Get statistical summary of the data\n",
    "print(df.describe())\n",
    "print('')"
   ]
  },
  {
   "cell_type": "code",
   "execution_count": 4,
   "metadata": {},
   "outputs": [
    {
     "name": "stdout",
     "output_type": "stream",
     "text": [
      "   sepal_length  sepal_width  petal_length  petal_width        class\n",
      "0           5.1          3.5           1.4          0.2  Iris-setosa\n",
      "1           4.9          3.0           1.4          0.2  Iris-setosa\n",
      "2           4.7          3.2           1.3          0.2  Iris-setosa\n",
      "3           4.6          3.1           1.5          0.2  Iris-setosa\n",
      "4           5.0          3.6           1.4          0.2  Iris-setosa\n",
      "5           5.4          3.9           1.7          0.4  Iris-setosa\n",
      "6           4.6          3.4           1.4          0.3  Iris-setosa\n",
      "7           5.0          3.4           1.5          0.2  Iris-setosa\n",
      "8           4.4          2.9           1.4          0.2  Iris-setosa\n",
      "9           4.9          3.1           1.5          0.1  Iris-setosa\n",
      "\n"
     ]
    }
   ],
   "source": [
    "# Look at first 10 rows of the data\n",
    "print(df.head(10))\n",
    "print('')\n",
    "\n",
    "# Select rows with sepal_length more than 5.0\n",
    "df2 = df.loc[df['sepal_length'] > 5.0, ]"
   ]
  },
  {
   "cell_type": "code",
   "execution_count": 5,
   "metadata": {},
   "outputs": [
    {
     "data": {
      "image/png": "[encoded data removed]",
      "text/plain": [
       "<Figure size 720x504 with 1 Axes>"
      ]
     },
     "metadata": {
      "needs_background": "light"
     },
     "output_type": "display_data"
    },
    {
     "data": {
      "text/plain": [
       "<Figure size 432x288 with 0 Axes>"
      ]
     },
     "metadata": {},
     "output_type": "display_data"
    }
   ],
   "source": [
    "'''\n",
    "Data Visualization in Panads\n",
    "'''\n",
    "\n",
    "# Define marker shapes by class\n",
    "marker_shapes = ['.', '^', '*']\n",
    "\n",
    "# Then, plot the scatterplot\n",
    "for i, species in enumerate(df['class'].unique()):\n",
    "  if i == 0:\n",
    "    ax = df[df['class'] == species].plot.scatter(x='sepal_length', y='sepal_width', marker=marker_shapes[i], s=100,title=\"Sepal Width vs Length by Species\", label=species, figsize=(10,7))\n",
    "  else:\n",
    "    df[df['class'] == species].plot.scatter(x='sepal_length', y='sepal_width', marker=marker_shapes[i], s=100, title=\"Sepal Width vs Length by Species\", label=species, ax=ax)\n",
    "plt.show()\n",
    "plt.clf()"
   ]
  },
  {
   "cell_type": "code",
   "execution_count": 6,
   "metadata": {},
   "outputs": [
    {
     "data": {
      "image/png": "[encoded data removed]",
      "text/plain": [
       "<Figure size 432x288 with 1 Axes>"
      ]
     },
     "metadata": {
      "needs_background": "light"
     },
     "output_type": "display_data"
    }
   ],
   "source": [
    "# Plot histogram\n",
    "df['petal_length'].plot.hist(title='Histogram of Petal Length')\n",
    "plt.show()"
   ]
  },
  {
   "cell_type": "code",
   "execution_count": 7,
   "metadata": {},
   "outputs": [
    {
     "data": {
      "image/png": "[encoded data removed]",
      "text/plain": [
       "<Figure size 432x288 with 1 Axes>"
      ]
     },
     "metadata": {
      "needs_background": "light"
     },
     "output_type": "display_data"
    }
   ],
   "source": [
    "# Plot boxplot\n",
    "df.plot.box(title='Boxplot of Sepal Length & Width, and Petal Length & Width')\n",
    "plt.show()"
   ]
  },
  {
   "cell_type": "code",
   "execution_count": 8,
   "metadata": {},
   "outputs": [
    {
     "name": "stdout",
     "output_type": "stream",
     "text": [
      "   Day_Friday  Day_Monday  Day_Saturday  Day_Sunday  Day_Thursday  \\\n",
      "0           0           1             0           0             0   \n",
      "1           0           0             0           0             0   \n",
      "2           0           0             0           0             0   \n",
      "3           0           0             0           0             1   \n",
      "4           1           0             0           0             0   \n",
      "5           0           0             1           0             0   \n",
      "6           0           0             0           1             0   \n",
      "\n",
      "   Day_Tuesday  Day_Wednesday  \n",
      "0            0              0  \n",
      "1            1              0  \n",
      "2            0              1  \n",
      "3            0              0  \n",
      "4            0              0  \n",
      "5            0              0  \n",
      "6            0              0  \n",
      "\n"
     ]
    }
   ],
   "source": [
    "'''\n",
    "Data Preprocessing in Pandas\n",
    "'''\n",
    "\n",
    "# Encode categorical variables\n",
    "df2 = pd.DataFrame({'Day': ['Monday','Tuesday','Wednesday',\n",
    "                           'Thursday','Friday','Saturday',\n",
    "                           'Sunday']})\n",
    "                           \n",
    "# One-hot-encode\n",
    "print(pd.get_dummies(df2))\n",
    "print('')"
   ]
  },
  {
   "cell_type": "code",
   "execution_count": 9,
   "metadata": {},
   "outputs": [
    {
     "name": "stdout",
     "output_type": "stream",
     "text": [
      "sepal_length     True\n",
      "sepal_width     False\n",
      "petal_length    False\n",
      "petal_width     False\n",
      "class           False\n",
      "dtype: bool\n",
      "\n"
     ]
    }
   ],
   "source": [
    "# Imputing missing values\n",
    "# Import the iris data once again\n",
    "df = pd.read_csv(\"https://archive.ics.uci.edu/ml/machine-learning-databases/iris/iris.data\",\n",
    "                names = ['sepal_length', 'sepal_width', 'petal_length', 'petal_width', 'class'])\n",
    "\n",
    "# Randomly select 10 rows\n",
    "random_index = np.random.choice(df.index, replace= False, size=10)\n",
    "\n",
    "# Set the sepal_length values of these rows to be None\n",
    "df.loc[random_index,'sepal_length'] = None\n",
    "\n",
    "# Check where the missing values are\n",
    "print(df.isnull().any())\n",
    "print('')"
   ]
  },
  {
   "cell_type": "code",
   "execution_count": 10,
   "metadata": {},
   "outputs": [
    {
     "name": "stdout",
     "output_type": "stream",
     "text": [
      "Number of rows before deleting: 150\n",
      "Number of rows after deleting: 140\n",
      "\n"
     ]
    }
   ],
   "source": [
    "# Drop missing values\n",
    "print(\"Number of rows before deleting: %d\" % (df.shape[0]))\n",
    "df2 = df.dropna()\n",
    "print(\"Number of rows after deleting: %d\" % (df2.shape[0]))\n",
    "print('')"
   ]
  },
  {
   "cell_type": "code",
   "execution_count": 11,
   "metadata": {},
   "outputs": [
    {
     "name": "stdout",
     "output_type": "stream",
     "text": [
      "sepal_length    False\n",
      "sepal_width     False\n",
      "petal_length    False\n",
      "petal_width     False\n",
      "class           False\n",
      "dtype: bool\n",
      "\n"
     ]
    }
   ],
   "source": [
    "# Replace missing values with the mean\n",
    "df.sepal_length = df.sepal_length.fillna(df.sepal_length.mean())\n",
    "\n",
    "# Confirm that there are no missing values left\n",
    "print(df.isnull().any())\n",
    "print('')"
   ]
  },
  {
   "cell_type": "code",
   "execution_count": null,
   "metadata": {},
   "outputs": [],
   "source": []
  }
 ],
 "metadata": {
  "kernelspec": {
   "display_name": "Python 3",
   "language": "python",
   "name": "python3"
  },
  "language_info": {
   "codemirror_mode": {
    "name": "ipython",
    "version": 3
   },
   "file_extension": ".py",
   "mimetype": "text/x-python",
   "name": "python",
   "nbconvert_exporter": "python",
   "pygments_lexer": "ipython3",
   "version": "3.7.3"
  }
 },
 "nbformat": 4,
 "nbformat_minor": 2
}
