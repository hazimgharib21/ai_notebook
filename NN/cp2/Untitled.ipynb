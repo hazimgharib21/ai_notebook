{
 "cells": [
  {
   "cell_type": "code",
   "execution_count": 1,
   "metadata": {},
   "outputs": [
    {
     "name": "stderr",
     "output_type": "stream",
     "text": [
      "Using TensorFlow backend.\n"
     ]
    }
   ],
   "source": [
    "import matplotlib\n",
    "matplotlib.use(\"TkAgg\")\n",
    "import pandas as pd\n",
    "import seaborn as sns\n",
    "from sklearn.model_selection import train_test_split\n",
    "from sklearn.metrics import confusion_matrix\n",
    "from sklearn.metrics import roc_curve\n",
    "from sklearn import preprocessing\n",
    "from keras.models import Sequential\n",
    "from keras.layers import Dense\n",
    "import matplotlib.pyplot as plt\n",
    "import numpy as np\n",
    "np.random.seed(16)\n",
    "%matplotlib inline"
   ]
  },
  {
   "cell_type": "code",
   "execution_count": 2,
   "metadata": {},
   "outputs": [
    {
     "name": "stderr",
     "output_type": "stream",
     "text": [
      "C:\\Users\\invader\\Anaconda3\\lib\\site-packages\\ipykernel_launcher.py:18: DataConversionWarning: Data with input dtype int64, float64 were all converted to float64 by the scale function.\n"
     ]
    }
   ],
   "source": [
    "# load dataset\n",
    "df = pd.read_csv('dataset/diabetes.csv')\n",
    "\n",
    "# data preprocessing\n",
    "# Replace 0 values with the mean of the existing values\n",
    "df['Glucose'] = df['Glucose'].replace(0, np.nan)\n",
    "df['BloodPressure'] = df['BloodPressure'].replace(0, np.nan)\n",
    "df['SkinThickness'] = df['SkinThickness'].replace(0, np.nan)\n",
    "df['Insulin'] = df['Insulin'].replace(0, np.nan)\n",
    "df['BMI'] = df['BMI'].replace(0, np.nan)\n",
    "df['Glucose'] = df['Glucose'].fillna(df['Glucose'].mean())\n",
    "df['BloodPressure'] = df['BloodPressure'].fillna(df['BloodPressure'].mean())\n",
    "df['SkinThickness'] = df['SkinThickness'].fillna(df['SkinThickness'].mean())\n",
    "df['Insulin'] = df['Insulin'].fillna(df['Insulin'].mean())\n",
    "df['BMI'] = df['BMI'].fillna(df['BMI'].mean())\n",
    "\n",
    "# Standardization\n",
    "df_scaled = preprocessing.scale(df)\n",
    "df_scaled = pd.DataFrame(df_scaled, columns=df.columns)\n",
    "df_scaled['Outcome'] = df['Outcome']\n",
    "df = df_scaled"
   ]
  },
  {
   "cell_type": "code",
   "execution_count": 3,
   "metadata": {},
   "outputs": [],
   "source": [
    "# Split data into training and testing\n",
    "X = df.loc[:, df.columns != 'Outcome']\n",
    "y = df.loc[:, 'Outcome']\n",
    "X_train, X_test, y_train, y_test = train_test_split(X, y, test_size=0.2)"
   ]
  },
  {
   "cell_type": "code",
   "execution_count": 10,
   "metadata": {},
   "outputs": [
    {
     "data": {
      "text/plain": [
       "<keras.callbacks.History at 0x19b6705ceb8>"
      ]
     },
     "execution_count": 10,
     "metadata": {},
     "output_type": "execute_result"
    }
   ],
   "source": [
    "# Build neural network in Keras\n",
    "model = Sequential()\n",
    "model.add(Dense(32, activation='relu', input_dim=8))\n",
    "model.add(Dense(16, activation='relu'))\n",
    "model.add(Dense(1, activation='sigmoid'))\n",
    "model.compile(optimizer='adam', loss='binary_crossentropy', metrics=['accuracy'])\n",
    "model.fit(X_train, y_train, epochs=500, verbose=False)"
   ]
  },
  {
   "cell_type": "code",
   "execution_count": 11,
   "metadata": {},
   "outputs": [
    {
     "name": "stdout",
     "output_type": "stream",
     "text": [
      "Training Accuracy: 99.35%\n",
      "\n",
      "Testing Accuracy: 77.27%\n",
      "\n"
     ]
    }
   ],
   "source": [
    "# Results - Accuracy\n",
    "scores = model.evaluate(X_train, y_train, verbose=False)\n",
    "print(\"Training Accuracy: %.2f%%\\n\" % (scores[1]*100))\n",
    "scores = model.evaluate(X_test, y_test, verbose=False)\n",
    "print(\"Testing Accuracy: %.2f%%\\n\" % (scores[1]*100))\n"
   ]
  },
  {
   "cell_type": "code",
   "execution_count": 12,
   "metadata": {},
   "outputs": [
    {
     "data": {
      "image/png": "[encoded data removed]",
      "text/plain": [
       "<Figure size 432x288 with 1 Axes>"
      ]
     },
     "metadata": {
      "needs_background": "light"
     },
     "output_type": "display_data"
    },
    {
     "data": {
      "text/plain": [
       "<Figure size 432x288 with 0 Axes>"
      ]
     },
     "metadata": {},
     "output_type": "display_data"
    }
   ],
   "source": [
    "# Results - Confusion Matrix\n",
    "y_test_pred = model.predict_classes(X_test)\n",
    "c_matrix = confusion_matrix(y_test, y_test_pred)\n",
    "ax = sns.heatmap(c_matrix, annot=True, xticklabels=['No Diabetes', 'Diabetes'], yticklabels=['No Diabetes', 'Diabetes'], cbar=False, cmap='Blues')\n",
    "ax.set_xlabel(\"Prediction\")\n",
    "ax.set_ylabel(\"Actual\")\n",
    "plt.show()\n",
    "plt.clf()"
   ]
  },
  {
   "cell_type": "code",
   "execution_count": 13,
   "metadata": {},
   "outputs": [
    {
     "data": {
      "image/png": "[encoded data removed]",
      "text/plain": [
       "<Figure size 432x288 with 1 Axes>"
      ]
     },
     "metadata": {
      "needs_background": "light"
     },
     "output_type": "display_data"
    },
    {
     "data": {
      "text/plain": [
       "<Figure size 432x288 with 0 Axes>"
      ]
     },
     "metadata": {},
     "output_type": "display_data"
    }
   ],
   "source": [
    "# Results - ROC Curve\n",
    "y_test_pred_probs = model.predict(X_test)\n",
    "FPR, TPR, _ = roc_curve(y_test, y_test_pred_probs)\n",
    "plt.plot(FPR, TPR)\n",
    "plt.plot([0,1],[0,1],'--', color='black') #diagonal line\n",
    "plt.title('ROC Curve')\n",
    "plt.xlabel('False Positive Rate')\n",
    "plt.ylabel('True Positive Rate')\n",
    "plt.show()\n",
    "plt.clf()"
   ]
  },
  {
   "cell_type": "code",
   "execution_count": null,
   "metadata": {},
   "outputs": [],
   "source": []
  }
 ],
 "metadata": {
  "kernelspec": {
   "display_name": "Python 3",
   "language": "python",
   "name": "python3"
  },
  "language_info": {
   "codemirror_mode": {
    "name": "ipython",
    "version": 3
   },
   "file_extension": ".py",
   "mimetype": "text/x-python",
   "name": "python",
   "nbconvert_exporter": "python",
   "pygments_lexer": "ipython3",
   "version": "3.7.3"
  }
 },
 "nbformat": 4,
 "nbformat_minor": 2
}
